{
 "cells": [
  {
   "cell_type": "markdown",
   "metadata": {},
   "source": [
    "### Lab 1: Setting Up Python Environment and Introduction to Jupyter Notebooks\n",
    "\n",
    "#### Objectives:\n",
    "- Install Anaconda distribution.\n",
    "- Launch Jupyter Notebook.\n",
    "- Create a new notebook and execute basic Python commands.\n",
    "\n",
    "#### Exercises:\n",
    "1. Install Anaconda distribution on your computer following the installation guide provided.\n",
    "2. Launch Jupyter Notebook from the Anaconda Navigator or command line.\n",
    "3. Create a new Python 3 notebook.\n",
    "4. In the first cell, print \"Hello, world!\" using the print() function.\n",
    "5. Perform basic arithmetic operations (addition, subtraction, multiplication, division) in separate cells and observe the output.\n"
   ]
  },
  {
   "cell_type": "markdown",
   "metadata": {},
   "source": [
    "### Lab 2: Basic Python Syntax\n",
    "\n",
    "#### Objectives:\n",
    "- Demonstrate variables, data types, and basic arithmetic operations.\n",
    "- Use print() function to output results.\n",
    "- Write conditional statements (if, else, elif).\n",
    "\n"
   ]
  },
  {
   "cell_type": "markdown",
   "metadata": {},
   "source": [
    "# #### Exercises:\n",
    "# 1. Declare variables of different data types (integer, float, string) and print their values.\n"
   ]
  },
  {
   "cell_type": "markdown",
   "metadata": {},
   "source": [
    "# 2. Write a Python script to calculate the area of a rectangle given its length and width.  "
   ]
  },
  {
   "cell_type": "markdown",
   "metadata": {},
   "source": [
    "# 3. Implement a program to check whether a given number is even or odd using if-else statements."
   ]
  },
  {
   "cell_type": "markdown",
   "metadata": {},
   "source": [
    "# 4. Write a Python script that prompts the user for their age and prints different messages based on the age group (e.g., \"You are a teenager\", \"You are an adult\")."
   ]
  }
 ],
 "metadata": {
  "kernelspec": {
   "display_name": "Python 3",
   "language": "python",
   "name": "python3"
  },
  "language_info": {
   "codemirror_mode": {
    "name": "ipython",
    "version": 3
   },
   "file_extension": ".py",
   "mimetype": "text/x-python",
   "name": "python",
   "nbconvert_exporter": "python",
   "pygments_lexer": "ipython3",
   "version": "3.8.3"
  }
 },
 "nbformat": 4,
 "nbformat_minor": 4
}
